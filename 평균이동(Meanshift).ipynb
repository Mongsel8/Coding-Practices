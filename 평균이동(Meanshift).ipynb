{
  "nbformat": 4,
  "nbformat_minor": 0,
  "metadata": {
    "colab": {
      "provenance": [],
      "authorship_tag": "ABX9TyNUkJYUtfpVCCI8a9FQwBLL",
      "include_colab_link": true
    },
    "kernelspec": {
      "name": "python3",
      "display_name": "Python 3"
    },
    "language_info": {
      "name": "python"
    }
  },
  "cells": [
    {
      "cell_type": "markdown",
      "metadata": {
        "id": "view-in-github",
        "colab_type": "text"
      },
      "source": [
        "<a href=\"https://colab.research.google.com/github/Mongsel8/Coding-Practices/blob/main/%ED%8F%89%EA%B7%A0%EC%9D%B4%EB%8F%99(Meanshift).ipynb\" target=\"_parent\"><img src=\"https://colab.research.google.com/assets/colab-badge.svg\" alt=\"Open In Colab\"/></a>"
      ]
    },
    {
      "cell_type": "markdown",
      "source": [
        "#Meanshift\n"
      ],
      "metadata": {
        "id": "mlH_fip1cKTG"
      }
    },
    {
      "cell_type": "markdown",
      "source": [
        "K Means와의 차이점은 K Means는 평균거리중심으로 이동하지만 평균이동은 밀도 기준으로 평균을 이동시킨다. 이를 위해 확률 밀도 함수를 이용.<br>\n",
        "확률 밀도 함수를 찾기 위해 KDE(Kernal Density Estimation)을 사용 <br>\n",
        "대역폭이 작으면 군집의 갯수가 증가하고 대역폭이 크면 군집의 갯수가 감소한다.<br>\n",
        "KDE = $\\frac{1}{n}$ ∑ $K_h$ $(x-x_i)$ = $\\frac{1}{nh}$∑ $K$ $(x-x_i)$ <br>\n",
        "K는 커널 함수, x는 확률 변숫 값, x_i는 관측값, h는 대역폭"
      ],
      "metadata": {
        "id": "oM714Un4fYp8"
      }
    },
    {
      "cell_type": "code",
      "execution_count": 1,
      "metadata": {
        "id": "KXhGObXbEL6R"
      },
      "outputs": [],
      "source": [
        "from sklearn.cluster import MeanShift\n",
        "from sklearn.datasets import make_blobs\n",
        "X,y = make_blobs(n_samples = 200, n_features= 2, centers=3, cluster_std = .7, random_state=0)\n"
      ]
    },
    {
      "cell_type": "code",
      "source": [
        "meanshift = MeanShift(bandwidth=.8)\n",
        "meanshift.fit(X)\n",
        "meanshift.predict(X)"
      ],
      "metadata": {
        "colab": {
          "base_uri": "https://localhost:8080/"
        },
        "id": "Xr1qiQeoFKas",
        "outputId": "8b0ef5a2-ee79-4833-de40-9ea8ae3d5f61"
      },
      "execution_count": 2,
      "outputs": [
        {
          "output_type": "execute_result",
          "data": {
            "text/plain": [
              "array([2, 0, 0, 2, 4, 2, 1, 1, 0, 2, 0, 2, 0, 0, 0, 2, 1, 1, 0, 3, 2, 1,\n",
              "       0, 0, 3, 0, 5, 2, 2, 2, 0, 4, 2, 0, 1, 1, 0, 1, 5, 3, 1, 2, 3, 2,\n",
              "       4, 4, 0, 2, 0, 0, 0, 1, 2, 2, 2, 2, 1, 1, 0, 4, 3, 2, 0, 1, 1, 2,\n",
              "       1, 1, 2, 1, 5, 0, 0, 2, 0, 2, 1, 1, 1, 3, 2, 0, 0, 1, 1, 0, 0, 2,\n",
              "       0, 1, 3, 2, 5, 0, 1, 0, 0, 2, 2, 1, 1, 4, 2, 0, 2, 0, 1, 0, 0, 1,\n",
              "       0, 2, 1, 2, 0, 0, 0, 1, 2, 2, 1, 1, 2, 0, 1, 0, 3, 1, 3, 4, 2, 1,\n",
              "       1, 1, 0, 1, 1, 0, 1, 2, 2, 2, 4, 1, 1, 0, 3, 3, 1, 0, 1, 3, 3, 2,\n",
              "       0, 1, 1, 1, 0, 0, 2, 2, 2, 2, 0, 0, 1, 2, 1, 1, 0, 5, 0, 1, 2, 2,\n",
              "       0, 3, 0, 1, 0, 2, 1, 1, 5, 0, 2, 1, 4, 4, 2, 2, 1, 1, 1, 5, 3, 1,\n",
              "       0, 1])"
            ]
          },
          "metadata": {},
          "execution_count": 2
        }
      ]
    },
    {
      "cell_type": "code",
      "source": [
        "meanshift = MeanShift(bandwidth=2)\n",
        "meanshift.fit(X)\n",
        "meanshift.predict(X)"
      ],
      "metadata": {
        "colab": {
          "base_uri": "https://localhost:8080/"
        },
        "id": "Mc9OKqdRE7UU",
        "outputId": "6acb5418-14eb-463e-fedd-8b310c880c75"
      },
      "execution_count": 3,
      "outputs": [
        {
          "output_type": "execute_result",
          "data": {
            "text/plain": [
              "array([0, 1, 1, 0, 1, 0, 2, 2, 1, 0, 1, 0, 1, 1, 1, 0, 2, 2, 1, 0, 0, 2,\n",
              "       1, 1, 0, 1, 2, 0, 0, 0, 1, 1, 0, 1, 2, 2, 1, 2, 2, 0, 2, 0, 0, 0,\n",
              "       1, 1, 1, 0, 1, 1, 1, 2, 0, 0, 0, 0, 2, 2, 1, 1, 0, 0, 1, 2, 2, 0,\n",
              "       2, 2, 0, 2, 2, 1, 1, 0, 1, 0, 2, 2, 2, 0, 0, 1, 1, 2, 2, 1, 1, 0,\n",
              "       1, 2, 0, 0, 2, 1, 2, 1, 1, 0, 0, 2, 2, 1, 0, 1, 0, 1, 2, 1, 1, 2,\n",
              "       1, 0, 2, 0, 1, 1, 1, 2, 0, 0, 2, 2, 0, 1, 2, 1, 0, 2, 0, 1, 0, 2,\n",
              "       2, 2, 1, 2, 2, 1, 2, 0, 0, 0, 1, 2, 2, 1, 0, 0, 2, 1, 2, 0, 0, 0,\n",
              "       1, 2, 2, 2, 1, 1, 0, 0, 0, 0, 1, 1, 2, 0, 2, 2, 1, 2, 1, 2, 0, 0,\n",
              "       1, 0, 1, 2, 1, 0, 2, 2, 2, 1, 0, 2, 1, 1, 0, 0, 2, 2, 2, 2, 0, 2,\n",
              "       1, 2])"
            ]
          },
          "metadata": {},
          "execution_count": 3
        }
      ]
    },
    {
      "cell_type": "code",
      "source": [
        "from sklearn.cluster import estimate_bandwidth\n",
        "\n",
        "bandwidth = estimate_bandwidth(X)\n",
        "bandwidth"
      ],
      "metadata": {
        "colab": {
          "base_uri": "https://localhost:8080/"
        },
        "id": "tA0I9eGjJpUC",
        "outputId": "b6543c1e-2ee5-4ec2-ebcd-19eef431788a"
      },
      "execution_count": 4,
      "outputs": [
        {
          "output_type": "execute_result",
          "data": {
            "text/plain": [
              "1.8158484154517098"
            ]
          },
          "metadata": {},
          "execution_count": 4
        }
      ]
    },
    {
      "cell_type": "code",
      "source": [
        "import pandas as pd\n",
        "import numpy as np\n",
        "clusterDF= pd.DataFrame(data = X, columns = ['ftr1','ftr2'])\n",
        "clusterDF['target'] = y\n",
        "\n",
        "best_bandwidth = estimate_bandwidth(X)\n",
        "meanshift = MeanShift(bandwidth = best_bandwidth)\n",
        "cluster_labels = meanshift.fit_predict(X)\n",
        "print('cluster labels 유형 : ',np.unique(cluster_labels))"
      ],
      "metadata": {
        "colab": {
          "base_uri": "https://localhost:8080/"
        },
        "id": "QmGHjMqnJ2xw",
        "outputId": "8cf9a4f8-f53a-4dc2-8814-f91af61c1587"
      },
      "execution_count": 5,
      "outputs": [
        {
          "output_type": "stream",
          "name": "stdout",
          "text": [
            "cluster labels 유형 :  [0 1 2]\n"
          ]
        }
      ]
    }
  ]
}